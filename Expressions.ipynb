{
 "cells": [
  {
   "cell_type": "code",
   "execution_count": 1,
   "id": "5fa4a4fe",
   "metadata": {},
   "outputs": [],
   "source": [
    "import numpy"
   ]
  },
  {
   "cell_type": "code",
   "execution_count": 2,
   "id": "bd722c83",
   "metadata": {},
   "outputs": [
    {
     "name": "stdout",
     "output_type": "stream",
     "text": [
      "it can't convert to integer\n"
     ]
    }
   ],
   "source": [
    "#Exception handling code\n",
    "st = 'hello'\n",
    "try:\n",
    "    int(st)\n",
    "except:\n",
    "    print(\"it can't convert to integer\")\n",
    "    "
   ]
  },
  {
   "cell_type": "code",
   "execution_count": 10,
   "id": "9f586c81",
   "metadata": {},
   "outputs": [
    {
     "name": "stdout",
     "output_type": "stream",
     "text": [
      "hello\n"
     ]
    },
    {
     "data": {
      "text/plain": [
       "'success'"
      ]
     },
     "execution_count": 10,
     "metadata": {},
     "output_type": "execute_result"
    }
   ],
   "source": [
    "def func():\n",
    "    print(\"hello\")\n",
    "    return \"success\"\n",
    "func()"
   ]
  },
  {
   "cell_type": "code",
   "execution_count": 11,
   "id": "54438208",
   "metadata": {},
   "outputs": [
    {
     "name": "stdout",
     "output_type": "stream",
     "text": [
      "hello\n",
      "success\n"
     ]
    }
   ],
   "source": [
    "print(func())"
   ]
  },
  {
   "cell_type": "code",
   "execution_count": 14,
   "id": "0342b5bd",
   "metadata": {},
   "outputs": [
    {
     "name": "stdout",
     "output_type": "stream",
     "text": [
      "hello\n"
     ]
    },
    {
     "data": {
      "text/plain": [
       "'success'"
      ]
     },
     "execution_count": 14,
     "metadata": {},
     "output_type": "execute_result"
    }
   ],
   "source": [
    "r = func()\n",
    "r"
   ]
  },
  {
   "cell_type": "code",
   "execution_count": 28,
   "id": "1b373425",
   "metadata": {},
   "outputs": [
    {
     "data": {
      "text/plain": [
       "(tuple, 2)"
      ]
     },
     "execution_count": 28,
     "metadata": {},
     "output_type": "execute_result"
    }
   ],
   "source": [
    "def func1():\n",
    "    r=1\n",
    "    s=2\n",
    "    return (r,s)\n",
    "f=func1()\n",
    "type(f), f[1]"
   ]
  },
  {
   "cell_type": "code",
   "execution_count": 32,
   "id": "31dd7364",
   "metadata": {},
   "outputs": [
    {
     "name": "stdout",
     "output_type": "stream",
     "text": [
      "2\n"
     ]
    }
   ],
   "source": [
    "print(f[1])"
   ]
  },
  {
   "cell_type": "code",
   "execution_count": 37,
   "id": "ad90dd5b",
   "metadata": {},
   "outputs": [
    {
     "name": "stdout",
     "output_type": "stream",
     "text": [
      "enter your input:done\n"
     ]
    }
   ],
   "source": [
    "#use break to get out of the loop\n",
    "#While loop is used when we don't know how many times we want to run. It is also called indefinite loop.\n",
    "while True:\n",
    "    line = input('enter your input:')\n",
    "    if line == 'done':\n",
    "        break"
   ]
  },
  {
   "cell_type": "code",
   "execution_count": 52,
   "id": "278c2e91",
   "metadata": {},
   "outputs": [
    {
     "name": "stdout",
     "output_type": "stream",
     "text": [
      "0\n",
      "inside if loop 1\n",
      "1\n",
      "2nd iteration:\n",
      " 1\n",
      "after continue and 2nd iter 2\n",
      "2\n",
      "2nd iteration:\n",
      " 2\n",
      "after continue and 2nd iter 3\n",
      "3\n",
      "2nd iteration:\n",
      " 3\n",
      "after continue and 2nd iter 4\n",
      "4\n",
      "2nd iteration:\n",
      " 4\n",
      "after continue and 2nd iter 5\n"
     ]
    }
   ],
   "source": [
    "#continue statement takes the control of the loop to the start\n",
    "a=0\n",
    "while a<5:\n",
    "    print(a)\n",
    "    if(a==0):\n",
    "        a=a+1\n",
    "        print('inside if loop', a)\n",
    "        continue\n",
    "    print('2nd iteration:\\n', a)\n",
    "    a=a+1\n",
    "    print('after continue and 2nd iter',a)\n",
    "    "
   ]
  },
  {
   "cell_type": "code",
   "execution_count": null,
   "id": "b245cbfc",
   "metadata": {},
   "outputs": [],
   "source": []
  }
 ],
 "metadata": {
  "kernelspec": {
   "display_name": "Python 3 (ipykernel)",
   "language": "python",
   "name": "python3"
  },
  "language_info": {
   "codemirror_mode": {
    "name": "ipython",
    "version": 3
   },
   "file_extension": ".py",
   "mimetype": "text/x-python",
   "name": "python",
   "nbconvert_exporter": "python",
   "pygments_lexer": "ipython3",
   "version": "3.11.6"
  }
 },
 "nbformat": 4,
 "nbformat_minor": 5
}
